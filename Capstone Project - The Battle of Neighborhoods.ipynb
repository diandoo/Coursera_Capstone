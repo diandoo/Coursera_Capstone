{
    "cells": [
        {
            "cell_type": "markdown",
            "metadata": {},
            "source": "# Capstone Project: The Battle of Neighborhoods - Laotian Restaurant in New York City"
        },
        {
            "cell_type": "markdown",
            "metadata": {},
            "source": "### Table of contents\n1. Introduction/Business Problem\n2. Data\n3. Methodlogy\n4. Results\n5. Discussion\n6. Conclusion"
        },
        {
            "cell_type": "markdown",
            "metadata": {
                "collapsed": true
            },
            "source": "## 1. Introduction/Business Problem\n\nNew York City is a place that tends to attract a diverse range of business, and restaurants sometimes face the problem of an oversaturated market. To win the competition, it is usually a good idea for a restaurant to open in a neighborhood where (1) the number of similar restaurants is low (so that the restaurant is unique and face less direct competition) and (2) the area is known for popular restaurants (so that there exists a large potential customer base).\n\nFor this capstone project, I will conduct analysis to locate the optimal neighborhood for a new Laotian restaurant in New York City. The goal is to find a location that will maximize the restaurant's unique vantage point and attract more customers. This analysis could be of interest to any future restaurant owners who might consider opening a Laotian restaurant in New York City."
        },
        {
            "cell_type": "markdown",
            "metadata": {},
            "source": "## 2. Data\nTo solve this business problem described above, I will use the following parameters to determine the optimal location for a Laotian restaurant in New York City:\n- Number of existing Laotian restaurants by neighborhood\n- Number of total restaurants by neighborhood\n- Number of customers who liked a restaurant in each neighborhood\n\nThe goal is to calculate the ratio of existing Laotian restaurants in each neighborhood, and then compare to how many cusotmers have liked restaurants in each neighborhood. I want to find a neighborhood with low ratio of existing Laotian restaurants and high number of customers who have liked restaurants in the neighborhood. This way, I will be able to locate a neighborhood with less competition and a larger customer base.\n\nTo obtain data on the above parameters, the following data sources will be used to gather the information needed:\n- Online existing data on New York City neighborhoods and their latitudes and longitudes \n- Foursquare API. Specifically, I will use the \"explore\" endpoint to gather restaurants in neighborhoods and use the \"likes\" endpoint to gather number of customers who liked a restaurant in neighborhoods"
        },
        {
            "cell_type": "markdown",
            "metadata": {},
            "source": "## 3. Methodology"
        },
        {
            "cell_type": "markdown",
            "metadata": {},
            "source": "## 4. Results"
        },
        {
            "cell_type": "markdown",
            "metadata": {},
            "source": "## 5. Discussion"
        },
        {
            "cell_type": "markdown",
            "metadata": {},
            "source": "## 6. Conclusion"
        },
        {
            "cell_type": "code",
            "execution_count": null,
            "metadata": {},
            "outputs": [],
            "source": ""
        }
    ],
    "metadata": {
        "kernelspec": {
            "display_name": "Python 3.7",
            "language": "python",
            "name": "python3"
        },
        "language_info": {
            "codemirror_mode": {
                "name": "ipython",
                "version": 3
            },
            "file_extension": ".py",
            "mimetype": "text/x-python",
            "name": "python",
            "nbconvert_exporter": "python",
            "pygments_lexer": "ipython3",
            "version": "3.7.9"
        }
    },
    "nbformat": 4,
    "nbformat_minor": 1
}